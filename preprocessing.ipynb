{
 "cells": [
  {
   "cell_type": "code",
   "execution_count": 5,
   "id": "worst-frank",
   "metadata": {},
   "outputs": [],
   "source": [
    "import librosa"
   ]
  },
  {
   "cell_type": "code",
   "execution_count": 6,
   "id": "marked-fireplace",
   "metadata": {},
   "outputs": [],
   "source": [
    "import soundfile "
   ]
  },
  {
   "cell_type": "code",
   "execution_count": 4,
   "id": "7cadcf15",
   "metadata": {},
   "outputs": [],
   "source": [
    "\n",
    "def split_audio(audio, sr, folder, counter):\n",
    "    buffer = 3 * sr\n",
    "    samples_total = len(audio)\n",
    "    samples_wrote = 0\n",
    "    file_name = folder+\".wav\"\n",
    "    while samples_wrote < samples_total:\n",
    "        \n",
    "        if buffer > (samples_total - samples_wrote):\n",
    "            buffer = samples_total - samples_wrote\n",
    "\n",
    "        block = audio[samples_wrote : (samples_wrote + buffer)]\n",
    "        out_filename = \"./\"+folder+\"/\"+ str(counter) + \"_\" + file_name\n",
    "\n",
    "        # Write 2 second segment\n",
    "        soundfile.write(out_filename, block, sr)\n",
    "        counter += 1\n",
    "        samples_wrote += buffer\n",
    "    return counter"
   ]
  },
  {
   "cell_type": "code",
   "execution_count": null,
   "id": "da5e31b5",
   "metadata": {},
   "outputs": [],
   "source": [
    "import os\n",
    "path = r\"C:\\others\\genre_prediction\\genres.tar\\genres\" \n",
    "genres = ['blues','classical','country','disco','hiphop','jazz','metal','pop','reggae','rock']\n",
    "for each_genre in genres:\n",
    "    current_path = os.path.join(path,each_genre)\n",
    "    counter = 0\n",
    "    for i in range(99):\n",
    "        if i<9:\n",
    "            music = each_genre+\".0000\"+str(i)+\".wav\"\n",
    "        else:\n",
    "            music = each_genre+\".000\"+str(i+1)+\".wav\"\n",
    "        music_path = os.path.join(current_path,music)\n",
    "        audio, sr = librosa.load(music_path)\n",
    "        counter = split_audio(audio, sr, each_genre, counter)\n",
    "    \n",
    "        "
   ]
  },
  {
   "cell_type": "code",
   "execution_count": 7,
   "id": "6fe5a9e9",
   "metadata": {},
   "outputs": [],
   "source": [
    "import numpy as np\n",
    "import librosa.display\n",
    "import matplotlib.pyplot as plt\n",
    "def plot(y,sr,file,counter):\n",
    "    mel_spect = librosa.feature.melspectrogram(y=y, sr=sr, n_fft=2048, hop_length=1024)\n",
    "    mel_spect = librosa.power_to_db(mel_spect, ref=np.max)\n",
    "    librosa.display.specshow(mel_spect, y_axis='mel', fmax=8000, x_axis='time');\n",
    "#     plt.colorbar(format='%+2.0f dB');\n",
    "    plt.savefig(\"./plots/\"+file+'/'+str(counter))\n",
    "    counter+=1\n",
    "    return counter\n"
   ]
  },
  {
   "cell_type": "code",
   "execution_count": 4,
   "id": "4c315ddf",
   "metadata": {},
   "outputs": [
    {
     "ename": "TypeError",
     "evalue": "plot() takes 4 positional arguments but 5 were given",
     "output_type": "error",
     "traceback": [
      "\u001b[1;31m---------------------------------------------------------------------------\u001b[0m",
      "\u001b[1;31mTypeError\u001b[0m                                 Traceback (most recent call last)",
      "\u001b[1;32m<ipython-input-4-03a96c0c5925>\u001b[0m in \u001b[0;36m<module>\u001b[1;34m\u001b[0m\n\u001b[0;32m      1\u001b[0m \u001b[0mpath\u001b[0m \u001b[1;33m=\u001b[0m \u001b[1;34mr\"C:\\others\\genre_prediction\\genres.tar\\genres\\blues\\blues.00000.wav\"\u001b[0m\u001b[1;33m\u001b[0m\u001b[1;33m\u001b[0m\u001b[0m\n\u001b[0;32m      2\u001b[0m \u001b[0maudio\u001b[0m\u001b[1;33m,\u001b[0m \u001b[0msr\u001b[0m \u001b[1;33m=\u001b[0m \u001b[0mlibrosa\u001b[0m\u001b[1;33m.\u001b[0m\u001b[0mload\u001b[0m\u001b[1;33m(\u001b[0m\u001b[0mpath\u001b[0m\u001b[1;33m)\u001b[0m\u001b[1;33m\u001b[0m\u001b[1;33m\u001b[0m\u001b[0m\n\u001b[1;32m----> 3\u001b[1;33m \u001b[0mplot\u001b[0m\u001b[1;33m(\u001b[0m\u001b[0maudio\u001b[0m\u001b[1;33m,\u001b[0m \u001b[0msr\u001b[0m\u001b[1;33m,\u001b[0m \u001b[1;34m\"blues\"\u001b[0m\u001b[1;33m,\u001b[0m \u001b[1;34m\"d\"\u001b[0m\u001b[1;33m,\u001b[0m\u001b[1;36m1\u001b[0m\u001b[1;33m)\u001b[0m\u001b[1;33m\u001b[0m\u001b[1;33m\u001b[0m\u001b[0m\n\u001b[0m",
      "\u001b[1;31mTypeError\u001b[0m: plot() takes 4 positional arguments but 5 were given"
     ]
    }
   ],
   "source": [
    "path = r\"C:\\others\\genre_prediction\\genres.tar\\genres\\blues\\blues.00000.wav\"\n",
    "audio, sr = librosa.load(path)\n",
    "plot(audio, sr, \"blues\", \"d\",1)"
   ]
  },
  {
   "cell_type": "code",
   "execution_count": null,
   "id": "a27ffff5",
   "metadata": {},
   "outputs": [
    {
     "name": "stderr",
     "output_type": "stream",
     "text": [
      "C:\\Users\\praka\\miniconda3\\envs\\ml\\lib\\site-packages\\librosa\\display.py:974: MatplotlibDeprecationWarning: The 'basey' parameter of __init__() has been renamed 'base' since Matplotlib 3.3; support for the old name will be dropped two minor releases later.\n",
      "  scaler(mode, **kwargs)\n",
      "C:\\Users\\praka\\miniconda3\\envs\\ml\\lib\\site-packages\\librosa\\display.py:974: MatplotlibDeprecationWarning: The 'linthreshy' parameter of __init__() has been renamed 'linthresh' since Matplotlib 3.3; support for the old name will be dropped two minor releases later.\n",
      "  scaler(mode, **kwargs)\n",
      "C:\\Users\\praka\\miniconda3\\envs\\ml\\lib\\site-packages\\librosa\\core\\spectrum.py:222: UserWarning: n_fft=2048 is too small for input signal of length=294\n",
      "  warnings.warn(\n"
     ]
    }
   ],
   "source": [
    "import os\n",
    "path = r\"C:\\others\\genre_prediction\" \n",
    "genres = ['blues','classical','country','disco','hiphop','jazz','metal','pop','reggae','rock']\n",
    "for each_genre in genres:\n",
    "    current_path = os.path.join(path,each_genre)\n",
    "    counter = 0\n",
    "    for i in range(len(os.listdir(current_path))):\n",
    "        music = str(i)+\"_\"+each_genre+\".wav\"\n",
    "        music_path = os.path.join(current_path,music)\n",
    "        audio, sr = librosa.load(music_path)\n",
    "        counter = plot(audio, sr, each_genre, counter)\n",
    "    "
   ]
  },
  {
   "cell_type": "code",
   "execution_count": null,
   "id": "a9fe3a74",
   "metadata": {},
   "outputs": [],
   "source": []
  }
 ],
 "metadata": {
  "kernelspec": {
   "display_name": "Python 3",
   "language": "python",
   "name": "python3"
  },
  "language_info": {
   "codemirror_mode": {
    "name": "ipython",
    "version": 3
   },
   "file_extension": ".py",
   "mimetype": "text/x-python",
   "name": "python",
   "nbconvert_exporter": "python",
   "pygments_lexer": "ipython3",
   "version": "3.8.0"
  }
 },
 "nbformat": 4,
 "nbformat_minor": 5
}
